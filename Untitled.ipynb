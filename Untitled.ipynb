{
 "cells": [
  {
   "cell_type": "code",
   "execution_count": 2,
   "id": "28e23526",
   "metadata": {},
   "outputs": [],
   "source": [
    "import os\n",
    "os.environ['DJANGO_SETTINGS_MODULE']='askcompany.settings'\n",
    "os.environ[\"DJANGO_ALLOW_ASYNC_UNSAFE\"]=\"true\"\n",
    "\n",
    "import django\n",
    "django.setup()"
   ]
  },
  {
   "cell_type": "code",
   "execution_count": 3,
   "id": "3fcbb8a5",
   "metadata": {},
   "outputs": [],
   "source": [
    "from instagram.models import Post"
   ]
  },
  {
   "cell_type": "code",
   "execution_count": 7,
   "id": "94b7494b",
   "metadata": {},
   "outputs": [
    {
     "name": "stdout",
     "output_type": "stream",
     "text": [
      "<class 'django.db.models.query.QuerySet'>\n",
      "SELECT \"instagram_post\".\"id\", \"instagram_post\".\"message\", \"instagram_post\".\"create_at\", \"instagram_post\".\"update_at\", \"instagram_post\".\"is_public\", \"instagram_post\".\"photo\" FROM \"instagram_post\"\n"
     ]
    },
    {
     "data": {
      "text/plain": [
       "<QuerySet [<Post: 첫번째>, <Post: 두 번째>, <Post: 세 번째>, <Post: 하하호호>]>"
      ]
     },
     "execution_count": 7,
     "metadata": {},
     "output_type": "execute_result"
    }
   ],
   "source": [
    "qs=Post.objects.all()\n",
    "print(type(qs))\n",
    "print(qs.query)\n",
    "qs"
   ]
  },
  {
   "cell_type": "code",
   "execution_count": 8,
   "id": "3614b000",
   "metadata": {},
   "outputs": [
    {
     "data": {
      "text/plain": [
       "<QuerySet [<Post: 하하호호>, <Post: 세 번째>, <Post: 두 번째>, <Post: 첫번째>]>"
      ]
     },
     "execution_count": 8,
     "metadata": {},
     "output_type": "execute_result"
    }
   ],
   "source": [
    "qs=Post.objects.all().order_by('-id')\n",
    "qs"
   ]
  },
  {
   "cell_type": "code",
   "execution_count": 13,
   "id": "2ce9c18b",
   "metadata": {},
   "outputs": [
    {
     "name": "stdout",
     "output_type": "stream",
     "text": [
      "SELECT \"instagram_post\".\"id\", \"instagram_post\".\"message\", \"instagram_post\".\"create_at\", \"instagram_post\".\"update_at\", \"instagram_post\".\"is_public\", \"instagram_post\".\"photo\" FROM \"instagram_post\" ORDER BY \"instagram_post\".\"id\" DESC\n"
     ]
    },
    {
     "data": {
      "text/plain": [
       "<QuerySet [<Post: 하하호호>, <Post: 세 번째>, <Post: 두 번째>, <Post: 첫번째>]>"
      ]
     },
     "execution_count": 13,
     "metadata": {},
     "output_type": "execute_result"
    }
   ],
   "source": [
    "qs=Post.objects.all().order_by('-id')\n",
    "print(qs.query)\n",
    "qs"
   ]
  },
  {
   "cell_type": "code",
   "execution_count": 14,
   "id": "83ec1f12",
   "metadata": {},
   "outputs": [
    {
     "name": "stdout",
     "output_type": "stream",
     "text": [
      "하하호호 4\n",
      "세 번째 3\n",
      "두 번째 2\n",
      "첫번째 1\n"
     ]
    }
   ],
   "source": [
    "for post in qs:\n",
    "    print(post.message, post.id)"
   ]
  },
  {
   "cell_type": "code",
   "execution_count": 21,
   "id": "72cdef85",
   "metadata": {},
   "outputs": [
    {
     "name": "stdout",
     "output_type": "stream",
     "text": [
      "SELECT \"instagram_post\".\"id\", \"instagram_post\".\"message\", \"instagram_post\".\"create_at\", \"instagram_post\".\"update_at\", \"instagram_post\".\"is_public\", \"instagram_post\".\"photo\" FROM \"instagram_post\" WHERE \"instagram_post\".\"message\" LIKE %번째% ESCAPE '\\' ORDER BY \"instagram_post\".\"id\" DESC\n"
     ]
    },
    {
     "data": {
      "text/plain": [
       "<QuerySet [<Post: 세 번째>, <Post: 두 번째>, <Post: 첫번째>]>"
      ]
     },
     "execution_count": 21,
     "metadata": {},
     "output_type": "execute_result"
    }
   ],
   "source": [
    "query=\"번째\"\n",
    "qs=Post.objects.all().filter(message__icontains=query).order_by('-id')\n",
    "print(qs.query)\n",
    "qs"
   ]
  },
  {
   "cell_type": "code",
   "execution_count": 27,
   "id": "e9b446ab",
   "metadata": {},
   "outputs": [
    {
     "data": {
      "text/plain": [
       "<Post: 하하호호>"
      ]
     },
     "execution_count": 27,
     "metadata": {},
     "output_type": "execute_result"
    }
   ],
   "source": [
    "qs=Post.objects.all()\n",
    "qs.last()"
   ]
  },
  {
   "cell_type": "code",
   "execution_count": null,
   "id": "63bd3da5",
   "metadata": {},
   "outputs": [],
   "source": []
  },
  {
   "cell_type": "code",
   "execution_count": 28,
   "id": "bb19efc6",
   "metadata": {},
   "outputs": [],
   "source": [
    "from django.db.models import Q"
   ]
  },
  {
   "cell_type": "code",
   "execution_count": 32,
   "id": "8e36e1cb",
   "metadata": {},
   "outputs": [
    {
     "name": "stdout",
     "output_type": "stream",
     "text": [
      "SELECT \"instagram_post\".\"id\", \"instagram_post\".\"message\", \"instagram_post\".\"create_at\", \"instagram_post\".\"update_at\", \"instagram_post\".\"is_public\", \"instagram_post\".\"photo\" FROM \"instagram_post\" WHERE (\"instagram_post\".\"id\" >= 2 OR \"instagram_post\".\"message\" LIKE %번째% ESCAPE '\\')\n"
     ]
    }
   ],
   "source": [
    "qs=Post.objects.all()\n",
    "qs=qs.filter(Q(id__gte=2) | Q(message__icontains=query))\n",
    "print(qs.query)"
   ]
  },
  {
   "cell_type": "code",
   "execution_count": null,
   "id": "ff2645ff",
   "metadata": {},
   "outputs": [],
   "source": []
  }
 ],
 "metadata": {
  "kernelspec": {
   "display_name": "Python 3",
   "language": "python",
   "name": "python3"
  },
  "language_info": {
   "codemirror_mode": {
    "name": "ipython",
    "version": 3
   },
   "file_extension": ".py",
   "mimetype": "text/x-python",
   "name": "python",
   "nbconvert_exporter": "python",
   "pygments_lexer": "ipython3",
   "version": "3.7.11"
  }
 },
 "nbformat": 4,
 "nbformat_minor": 5
}
